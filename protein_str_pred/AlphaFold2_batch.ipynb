{
 "cells": [
  {
   "cell_type": "markdown",
   "metadata": {
    "id": "G4yBrceuFbf3"
   },
   "source": [
    "#ColabFold v1.5.5: AlphaFold2 w/ MMseqs2 BATCH\n",
    "\n",
    "<img src=\"https://raw.githubusercontent.com/sokrypton/ColabFold/main/.github/ColabFold_Marv_Logo_Small.png\" height=\"256\" align=\"right\" style=\"height:256px\">\n",
    "\n",
    "Easy to use AlphaFold2 protein structure [(Jumper et al. 2021)](https://www.nature.com/articles/s41586-021-03819-2) and complex [(Evans et al. 2021)](https://www.biorxiv.org/content/10.1101/2021.10.04.463034v1) prediction using multiple sequence alignments generated through MMseqs2. For details, refer to our manuscript:\n",
    "\n",
    "[Mirdita M, Schütze K, Moriwaki Y, Heo L, Ovchinnikov S, Steinegger M. ColabFold: Making protein folding accessible to all.\n",
    "*Nature Methods*, 2022](https://www.nature.com/articles/s41592-022-01488-1)\n",
    "\n",
    "**Usage**\n",
    "\n",
    "`input_dir` directory with only fasta files or MSAs stored in Google Drive. MSAs need to be A3M formatted and have an `.a3m` extention. For MSAs MMseqs2 will not be called.\n",
    "\n",
    "`result_dir` results will be written to the result directory in Google Drive\n",
    "\n",
    "Old versions: [v1.4](https://colab.research.google.com/github/sokrypton/ColabFold/blob/v1.4.0/batch/AlphaFold2_batch.ipynb), [v1.5.1](https://colab.research.google.com/github/sokrypton/ColabFold/blob/v1.5.1/batch/AlphaFold2_batch.ipynb), [v1.5.2](https://colab.research.google.com/github/sokrypton/ColabFold/blob/v1.5.2/batch/AlphaFold2_batch.ipynb), [v1.5.3-patch](https://colab.research.google.com/github/sokrypton/ColabFold/blob/56c72044c7d51a311ca99b953a71e552fdc042e1/batch/AlphaFold2_batch.ipynb)\n",
    "\n",
    "<strong>For more details, see <a href=\"#Instructions\">bottom</a> of the notebook and checkout the [ColabFold GitHub](https://github.com/sokrypton/ColabFold). </strong>\n",
    "\n",
    "-----------\n",
    "\n",
    "### News\n",
    "- <b><font color='green'>2023/07/31: The ColabFold MSA server is back to normal. It was using older DB (UniRef30 2202/PDB70 220313) from 27th ~8:30 AM CEST to 31st ~11:10 AM CEST.</font></b>\n",
    "- <b><font color='green'>2023/06/12: New databases! UniRef30 updated to 2023_02 and PDB to 230517. We now use PDB100 instead of PDB70 (see notes in the [main](https://colabfold.com) notebook).</font></b>\n",
    "- <b><font color='green'>2023/06/12: We introduced a new default pairing strategy: Previously, for multimer predictions with more than 2 chains, we only pair if all sequences taxonomically match (\"complete\" pairing). The new default \"greedy\" strategy pairs any taxonomically matching subsets.</font></b>"
   ]
  },
  {
   "cell_type": "code",
   "execution_count": 8,
   "metadata": {
    "colab": {
     "base_uri": "https://localhost:8080/"
    },
    "executionInfo": {
     "elapsed": 3796,
     "status": "ok",
     "timestamp": 1736845213091,
     "user": {
      "displayName": "Kanta Masuki",
      "userId": "01999108984929327634"
     },
     "user_tz": -540
    },
    "id": "AwvIWN3HDyUJ",
    "outputId": "5bdc79f4-dda8-4882-f106-4d7d4c505b54"
   },
   "outputs": [
    {
     "name": "stdout",
     "output_type": "stream",
     "text": [
      "Drive already mounted at /content/drive; to attempt to forcibly remount, call drive.mount(\"/content/drive\", force_remount=True).\n"
     ]
    }
   ],
   "source": [
    "#@title Mount google drive\n",
    "from google.colab import drive\n",
    "drive.mount('/content/drive')\n",
    "from sys import version_info\n",
    "python_version = f\"{version_info.major}.{version_info.minor}\""
   ]
  },
  {
   "cell_type": "code",
   "execution_count": 9,
   "metadata": {
    "cellView": "form",
    "executionInfo": {
     "elapsed": 7,
     "status": "ok",
     "timestamp": 1736845213091,
     "user": {
      "displayName": "Kanta Masuki",
      "userId": "01999108984929327634"
     },
     "user_tz": -540
    },
    "id": "kOblAo-xetgx"
   },
   "outputs": [],
   "source": [
    "#@title Input protein sequence, then hit `Runtime` -> `Run all`\n",
    "\n",
    "input_dir = '/content/drive/MyDrive/fastas' #@param {type:\"string\"}\n",
    "result_dir = '/content/drive/MyDrive/results' #@param {type:\"string\"}\n",
    "\n",
    "# number of models to use\n",
    "#@markdown ---\n",
    "#@markdown ### Advanced settings\n",
    "msa_mode = \"MMseqs2 (UniRef+Environmental)\" #@param [\"MMseqs2 (UniRef+Environmental)\", \"MMseqs2 (UniRef only)\",\"single_sequence\",\"custom\"]\n",
    "num_models = 1 #@param [1,2,3,4,5] {type:\"raw\"}\n",
    "num_recycles = 1 #@param [1,3,6,12,24,48] {type:\"raw\"}\n",
    "stop_at_score = 100 #@param {type:\"string\"}\n",
    "#@markdown - early stop computing models once score > threshold (avg. plddt for \"structures\" and ptmscore for \"complexes\")\n",
    "use_custom_msa = False\n",
    "num_relax = 0 #@param [0, 1, 5] {type:\"raw\"}\n",
    "use_amber = num_relax > 0\n",
    "relax_max_iterations = 0 #@param [0,200,2000] {type:\"raw\"}\n",
    "use_templates = False #@param {type:\"boolean\"}\n",
    "do_not_overwrite_results = False #@param {type:\"boolean\"}\n",
    "zip_results = True #@param {type:\"boolean\"}\n"
   ]
  },
  {
   "cell_type": "code",
   "execution_count": 10,
   "metadata": {
    "cellView": "form",
    "executionInfo": {
     "elapsed": 724,
     "status": "ok",
     "timestamp": 1736845213809,
     "user": {
      "displayName": "Kanta Masuki",
      "userId": "01999108984929327634"
     },
     "user_tz": -540
    },
    "id": "iccGdbe_Pmt9"
   },
   "outputs": [],
   "source": [
    "#@title Install dependencies\n",
    "%%bash -s $use_amber $use_templates $python_version\n",
    "\n",
    "set -e\n",
    "\n",
    "USE_AMBER=$1\n",
    "USE_TEMPLATES=$2\n",
    "PYTHON_VERSION=$3\n",
    "\n",
    "if [ ! -f COLABFOLD_READY ]; then\n",
    "  # install dependencies\n",
    "  # We have to use \"--no-warn-conflicts\" because colab already has a lot preinstalled with requirements different to ours\n",
    "  pip install -q --no-warn-conflicts \"colabfold[alphafold-minus-jax] @ git+https://github.com/sokrypton/ColabFold\"\n",
    "  if [ -n \"${TPU_NAME}\" ]; then\n",
    "    pip install -q --no-warn-conflicts -U dm-haiku==0.0.10 jax==0.3.25\n",
    "  fi\n",
    "  ln -s /usr/local/lib/python3.*/dist-packages/colabfold colabfold\n",
    "  ln -s /usr/local/lib/python3.*/dist-packages/alphafold alphafold\n",
    "  touch COLABFOLD_READY\n",
    "fi\n",
    "\n",
    "# Download params (~1min)\n",
    "python -m colabfold.download\n",
    "\n",
    "# setup conda\n",
    "if [ ${USE_AMBER} == \"True\" ] || [ ${USE_TEMPLATES} == \"True\" ]; then\n",
    "  if [ ! -f CONDA_READY ]; then\n",
    "    wget -qnc https://repo.anaconda.com/miniconda/Miniconda3-latest-Linux-x86_64.sh\n",
    "    bash Miniconda3-latest-Linux-x86_64.sh -bfp /usr/local 2>&1 1>/dev/null\n",
    "    rm Miniconda3-latest-Linux-x86_64.sh\n",
    "    conda config --set auto_update_conda false\n",
    "    touch CONDA_READY\n",
    "  fi\n",
    "fi\n",
    "# setup template search\n",
    "if [ ${USE_TEMPLATES} == \"True\" ] && [ ! -f HH_READY ]; then\n",
    "  conda install -y -q -c conda-forge -c bioconda kalign2=2.04 hhsuite=3.3.0 python=\"${PYTHON_VERSION}\" 2>&1 1>/dev/null\n",
    "  touch HH_READY\n",
    "fi\n",
    "# setup openmm for amber refinement\n",
    "if [ ${USE_AMBER} == \"True\" ] && [ ! -f AMBER_READY ]; then\n",
    "  conda install -y -q -c conda-forge openmm=7.7.0 python=\"${PYTHON_VERSION}\" pdbfixer 2>&1 1>/dev/null\n",
    "  touch AMBER_READY\n",
    "fi"
   ]
  },
  {
   "cell_type": "code",
   "execution_count": null,
   "metadata": {
    "cellView": "form",
    "colab": {
     "base_uri": "https://localhost:8080/"
    },
    "id": "hUYApPElB30u",
    "outputId": "f59d4060-5df0-426c-e2f0-6dcd88d66384"
   },
   "outputs": [
    {
     "name": "stdout",
     "output_type": "stream",
     "text": [
      "2025-01-14 09:00:25,548 Running on GPU\n",
      "2025-01-14 09:00:25,584 Found 5 citations for tools or databases\n",
      "2025-01-14 09:00:25,585 Query 1/30: 7v5f.A.pdb (length 31)\n"
     ]
    },
    {
     "name": "stderr",
     "output_type": "stream",
     "text": [
      "COMPLETE: 100%|██████████| 150/150 [elapsed: 00:00 remaining: 00:00]\n"
     ]
    },
    {
     "name": "stdout",
     "output_type": "stream",
     "text": [
      "2025-01-14 09:00:39,911 Padding length to 41\n",
      "2025-01-14 09:00:56,588 alphafold2_ptm_model_1_seed_000 recycle=0 pLDDT=60.2 pTM=0.241\n",
      "2025-01-14 09:01:00,684 alphafold2_ptm_model_1_seed_000 recycle=1 pLDDT=71 pTM=0.353 tol=0.901\n",
      "2025-01-14 09:01:00,686 alphafold2_ptm_model_1_seed_000 took 20.8s (1 recycles)\n",
      "2025-01-14 09:01:00,705 reranking models by 'plddt' metric\n",
      "2025-01-14 09:01:00,706 rank_001_alphafold2_ptm_model_1_seed_000 pLDDT=71 pTM=0.353\n",
      "2025-01-14 09:01:01,296 Query 2/30: 7x8c.B.pdb (length 70)\n"
     ]
    },
    {
     "name": "stderr",
     "output_type": "stream",
     "text": [
      "COMPLETE: 100%|██████████| 150/150 [elapsed: 00:00 remaining: 00:00]\n"
     ]
    },
    {
     "name": "stdout",
     "output_type": "stream",
     "text": [
      "2025-01-14 09:01:05,046 Padding length to 80\n",
      "2025-01-14 09:01:26,212 alphafold2_ptm_model_1_seed_000 recycle=0 pLDDT=94 pTM=0.781\n",
      "2025-01-14 09:01:32,360 alphafold2_ptm_model_1_seed_000 recycle=1 pLDDT=94.8 pTM=0.797 tol=0.0771\n",
      "2025-01-14 09:01:32,361 alphafold2_ptm_model_1_seed_000 took 27.3s (1 recycles)\n",
      "2025-01-14 09:01:32,391 reranking models by 'plddt' metric\n",
      "2025-01-14 09:01:32,392 rank_001_alphafold2_ptm_model_1_seed_000 pLDDT=94.8 pTM=0.797\n",
      "2025-01-14 09:01:32,951 Query 3/30: 7rup.A.pdb (length 73)\n"
     ]
    },
    {
     "name": "stderr",
     "output_type": "stream",
     "text": [
      "PENDING:   0%|          | 0/150 [elapsed: 00:00 remaining: ?]"
     ]
    },
    {
     "name": "stdout",
     "output_type": "stream",
     "text": [
      "2025-01-14 09:01:33,244 Sleeping for 9s. Reason: PENDING\n"
     ]
    },
    {
     "name": "stderr",
     "output_type": "stream",
     "text": [
      "RUNNING:   6%|▌         | 9/150 [elapsed: 00:09 remaining: 02:29]"
     ]
    },
    {
     "name": "stdout",
     "output_type": "stream",
     "text": [
      "2025-01-14 09:01:42,530 Sleeping for 7s. Reason: RUNNING\n"
     ]
    },
    {
     "name": "stderr",
     "output_type": "stream",
     "text": [
      "RUNNING:  11%|█         | 16/150 [elapsed: 00:16 remaining: 02:20]"
     ]
    },
    {
     "name": "stdout",
     "output_type": "stream",
     "text": [
      "2025-01-14 09:01:49,817 Sleeping for 6s. Reason: RUNNING\n"
     ]
    },
    {
     "name": "stderr",
     "output_type": "stream",
     "text": [
      "RUNNING:  15%|█▍        | 22/150 [elapsed: 00:23 remaining: 02:14]"
     ]
    },
    {
     "name": "stdout",
     "output_type": "stream",
     "text": [
      "2025-01-14 09:01:56,098 Sleeping for 9s. Reason: RUNNING\n"
     ]
    },
    {
     "name": "stderr",
     "output_type": "stream",
     "text": [
      "RUNNING:  21%|██        | 31/150 [elapsed: 00:32 remaining: 02:03]"
     ]
    },
    {
     "name": "stdout",
     "output_type": "stream",
     "text": [
      "2025-01-14 09:02:05,393 Sleeping for 10s. Reason: RUNNING\n"
     ]
    },
    {
     "name": "stderr",
     "output_type": "stream",
     "text": [
      "COMPLETE: 100%|██████████| 150/150 [elapsed: 00:43 remaining: 00:00]\n"
     ]
    },
    {
     "name": "stdout",
     "output_type": "stream",
     "text": [
      "2025-01-14 09:02:21,040 Padding length to 80\n",
      "2025-01-14 09:02:27,284 alphafold2_ptm_model_1_seed_000 recycle=0 pLDDT=87.3 pTM=0.736\n",
      "2025-01-14 09:02:33,475 alphafold2_ptm_model_1_seed_000 recycle=1 pLDDT=85.9 pTM=0.72 tol=0.199\n",
      "2025-01-14 09:02:33,476 alphafold2_ptm_model_1_seed_000 took 12.4s (1 recycles)\n",
      "2025-01-14 09:02:33,518 reranking models by 'plddt' metric\n",
      "2025-01-14 09:02:33,519 rank_001_alphafold2_ptm_model_1_seed_000 pLDDT=85.9 pTM=0.72\n",
      "2025-01-14 09:02:34,352 Query 4/30: 7ruq.A.pdb (length 73)\n"
     ]
    },
    {
     "name": "stderr",
     "output_type": "stream",
     "text": [
      "COMPLETE: 100%|██████████| 150/150 [elapsed: 00:01 remaining: 00:00]\n"
     ]
    },
    {
     "name": "stdout",
     "output_type": "stream",
     "text": [
      "2025-01-14 09:02:38,344 Padding length to 80\n",
      "2025-01-14 09:02:44,684 alphafold2_ptm_model_1_seed_000 recycle=0 pLDDT=84.1 pTM=0.69\n",
      "2025-01-14 09:02:50,914 alphafold2_ptm_model_1_seed_000 recycle=1 pLDDT=83.5 pTM=0.682 tol=0.273\n",
      "2025-01-14 09:02:50,915 alphafold2_ptm_model_1_seed_000 took 12.6s (1 recycles)\n",
      "2025-01-14 09:02:50,957 reranking models by 'plddt' metric\n",
      "2025-01-14 09:02:50,958 rank_001_alphafold2_ptm_model_1_seed_000 pLDDT=83.5 pTM=0.682\n",
      "2025-01-14 09:02:51,516 Query 5/30: 7zc8.A.pdb (length 87)\n"
     ]
    },
    {
     "name": "stderr",
     "output_type": "stream",
     "text": [
      "COMPLETE: 100%|██████████| 150/150 [elapsed: 00:00 remaining: 00:00]\n"
     ]
    },
    {
     "name": "stdout",
     "output_type": "stream",
     "text": [
      "2025-01-14 09:02:55,197 Padding length to 97\n",
      "2025-01-14 09:03:26,808 alphafold2_ptm_model_1_seed_000 recycle=0 pLDDT=84.1 pTM=0.662\n",
      "2025-01-14 09:03:33,989 alphafold2_ptm_model_1_seed_000 recycle=1 pLDDT=86.9 pTM=0.712 tol=0.18\n",
      "2025-01-14 09:03:33,991 alphafold2_ptm_model_1_seed_000 took 38.8s (1 recycles)\n",
      "2025-01-14 09:03:34,022 reranking models by 'plddt' metric\n",
      "2025-01-14 09:03:34,023 rank_001_alphafold2_ptm_model_1_seed_000 pLDDT=86.9 pTM=0.712\n",
      "2025-01-14 09:03:34,577 Query 6/30: 7pcv.A.pdb (length 119)\n"
     ]
    },
    {
     "name": "stderr",
     "output_type": "stream",
     "text": [
      "COMPLETE: 100%|██████████| 150/150 [elapsed: 00:00 remaining: 00:00]\n"
     ]
    },
    {
     "name": "stdout",
     "output_type": "stream",
     "text": [
      "2025-01-14 09:03:39,360 Padding length to 129\n",
      "2025-01-14 09:04:11,819 alphafold2_ptm_model_1_seed_000 recycle=0 pLDDT=87.2 pTM=0.672\n",
      "2025-01-14 09:04:21,662 alphafold2_ptm_model_1_seed_000 recycle=1 pLDDT=84.8 pTM=0.643 tol=0.683\n",
      "2025-01-14 09:04:21,663 alphafold2_ptm_model_1_seed_000 took 42.3s (1 recycles)\n",
      "2025-01-14 09:04:21,707 reranking models by 'plddt' metric\n",
      "2025-01-14 09:04:21,709 rank_001_alphafold2_ptm_model_1_seed_000 pLDDT=84.8 pTM=0.643\n",
      "2025-01-14 09:04:22,354 Query 7/30: 7w89.A.pdb (length 136)\n"
     ]
    },
    {
     "name": "stderr",
     "output_type": "stream",
     "text": [
      "PENDING:   0%|          | 0/150 [elapsed: 00:00 remaining: ?]"
     ]
    },
    {
     "name": "stdout",
     "output_type": "stream",
     "text": [
      "2025-01-14 09:04:22,655 Sleeping for 5s. Reason: PENDING\n"
     ]
    },
    {
     "name": "stderr",
     "output_type": "stream",
     "text": [
      "RUNNING:   3%|▎         | 5/150 [elapsed: 00:05 remaining: 02:41]"
     ]
    },
    {
     "name": "stdout",
     "output_type": "stream",
     "text": [
      "2025-01-14 09:04:27,932 Sleeping for 7s. Reason: RUNNING\n"
     ]
    },
    {
     "name": "stderr",
     "output_type": "stream",
     "text": [
      "RUNNING:   8%|▊         | 12/150 [elapsed: 00:12 remaining: 02:27]"
     ]
    },
    {
     "name": "stdout",
     "output_type": "stream",
     "text": [
      "2025-01-14 09:04:35,224 Sleeping for 9s. Reason: RUNNING\n"
     ]
    },
    {
     "name": "stderr",
     "output_type": "stream",
     "text": [
      "RUNNING:  14%|█▍        | 21/150 [elapsed: 00:22 remaining: 02:15]"
     ]
    },
    {
     "name": "stdout",
     "output_type": "stream",
     "text": [
      "2025-01-14 09:04:44,512 Sleeping for 5s. Reason: RUNNING\n"
     ]
    },
    {
     "name": "stderr",
     "output_type": "stream",
     "text": [
      "RUNNING:  17%|█▋        | 26/150 [elapsed: 00:27 remaining: 02:10]"
     ]
    },
    {
     "name": "stdout",
     "output_type": "stream",
     "text": [
      "2025-01-14 09:04:49,794 Sleeping for 9s. Reason: RUNNING\n"
     ]
    },
    {
     "name": "stderr",
     "output_type": "stream",
     "text": [
      "COMPLETE: 100%|██████████| 150/150 [elapsed: 00:37 remaining: 00:00]\n"
     ]
    },
    {
     "name": "stdout",
     "output_type": "stream",
     "text": [
      "2025-01-14 09:05:04,888 Padding length to 146\n",
      "2025-01-14 09:05:36,835 alphafold2_ptm_model_1_seed_000 recycle=0 pLDDT=82.9 pTM=0.768\n",
      "2025-01-14 09:05:47,656 alphafold2_ptm_model_1_seed_000 recycle=1 pLDDT=83.1 pTM=0.771 tol=0.431\n",
      "2025-01-14 09:05:47,658 alphafold2_ptm_model_1_seed_000 took 42.8s (1 recycles)\n",
      "2025-01-14 09:05:47,745 reranking models by 'plddt' metric\n",
      "2025-01-14 09:05:47,747 rank_001_alphafold2_ptm_model_1_seed_000 pLDDT=83.1 pTM=0.771\n",
      "2025-01-14 09:05:48,619 Query 8/30: 7rt7.D.pdb (length 144)\n"
     ]
    },
    {
     "name": "stderr",
     "output_type": "stream",
     "text": [
      "COMPLETE: 100%|██████████| 150/150 [elapsed: 00:00 remaining: 00:00]\n"
     ]
    },
    {
     "name": "stdout",
     "output_type": "stream",
     "text": [
      "2025-01-14 09:05:51,278 Padding length to 146\n",
      "2025-01-14 09:06:02,190 alphafold2_ptm_model_1_seed_000 recycle=0 pLDDT=94.1 pTM=0.852\n",
      "2025-01-14 09:06:12,957 alphafold2_ptm_model_1_seed_000 recycle=1 pLDDT=95.2 pTM=0.862 tol=0.228\n",
      "2025-01-14 09:06:12,959 alphafold2_ptm_model_1_seed_000 took 21.7s (1 recycles)\n",
      "2025-01-14 09:06:13,041 reranking models by 'plddt' metric\n",
      "2025-01-14 09:06:13,043 rank_001_alphafold2_ptm_model_1_seed_000 pLDDT=95.2 pTM=0.862\n",
      "2025-01-14 09:06:13,853 Query 9/30: 7vf3.B.pdb (length 155)\n"
     ]
    },
    {
     "name": "stderr",
     "output_type": "stream",
     "text": [
      "PENDING:   0%|          | 0/150 [elapsed: 00:00 remaining: ?]"
     ]
    },
    {
     "name": "stdout",
     "output_type": "stream",
     "text": [
      "2025-01-14 09:06:14,155 Sleeping for 10s. Reason: PENDING\n"
     ]
    },
    {
     "name": "stderr",
     "output_type": "stream",
     "text": [
      "RUNNING:   7%|▋         | 10/150 [elapsed: 00:10 remaining: 02:28]"
     ]
    },
    {
     "name": "stdout",
     "output_type": "stream",
     "text": [
      "2025-01-14 09:06:24,451 Sleeping for 9s. Reason: RUNNING\n"
     ]
    },
    {
     "name": "stderr",
     "output_type": "stream",
     "text": [
      "RUNNING:  13%|█▎        | 19/150 [elapsed: 00:19 remaining: 02:16]"
     ]
    },
    {
     "name": "stdout",
     "output_type": "stream",
     "text": [
      "2025-01-14 09:06:33,730 Sleeping for 8s. Reason: RUNNING\n"
     ]
    },
    {
     "name": "stderr",
     "output_type": "stream",
     "text": [
      "RUNNING:  18%|█▊        | 27/150 [elapsed: 00:28 remaining: 02:07]"
     ]
    },
    {
     "name": "stdout",
     "output_type": "stream",
     "text": [
      "2025-01-14 09:06:42,016 Sleeping for 9s. Reason: RUNNING\n"
     ]
    },
    {
     "name": "stderr",
     "output_type": "stream",
     "text": [
      "RUNNING:  24%|██▍       | 36/150 [elapsed: 00:37 remaining: 01:58]"
     ]
    },
    {
     "name": "stdout",
     "output_type": "stream",
     "text": [
      "2025-01-14 09:06:51,309 Sleeping for 5s. Reason: RUNNING\n"
     ]
    },
    {
     "name": "stderr",
     "output_type": "stream",
     "text": [
      "COMPLETE: 100%|██████████| 150/150 [elapsed: 00:43 remaining: 00:00]\n"
     ]
    },
    {
     "name": "stdout",
     "output_type": "stream",
     "text": [
      "2025-01-14 09:06:58,771 Padding length to 165\n",
      "2025-01-14 09:07:35,356 alphafold2_ptm_model_1_seed_000 recycle=0 pLDDT=76.1 pTM=0.666\n",
      "2025-01-14 09:07:47,412 alphafold2_ptm_model_1_seed_000 recycle=1 pLDDT=77.7 pTM=0.696 tol=1.08\n",
      "2025-01-14 09:07:47,414 alphafold2_ptm_model_1_seed_000 took 48.6s (1 recycles)\n",
      "2025-01-14 09:07:47,515 reranking models by 'plddt' metric\n",
      "2025-01-14 09:07:47,517 rank_001_alphafold2_ptm_model_1_seed_000 pLDDT=77.7 pTM=0.696\n",
      "2025-01-14 09:07:48,391 Query 10/30: 7sfn.B.pdb (length 188)\n"
     ]
    },
    {
     "name": "stderr",
     "output_type": "stream",
     "text": [
      "PENDING:   0%|          | 0/150 [elapsed: 00:00 remaining: ?]"
     ]
    },
    {
     "name": "stdout",
     "output_type": "stream",
     "text": [
      "2025-01-14 09:07:48,691 Sleeping for 8s. Reason: PENDING\n"
     ]
    },
    {
     "name": "stderr",
     "output_type": "stream",
     "text": [
      "RUNNING:   5%|▌         | 8/150 [elapsed: 00:08 remaining: 02:32]"
     ]
    },
    {
     "name": "stdout",
     "output_type": "stream",
     "text": [
      "2025-01-14 09:07:56,980 Sleeping for 10s. Reason: RUNNING\n"
     ]
    },
    {
     "name": "stderr",
     "output_type": "stream",
     "text": [
      "RUNNING:  12%|█▏        | 18/150 [elapsed: 00:18 remaining: 02:17]"
     ]
    },
    {
     "name": "stdout",
     "output_type": "stream",
     "text": [
      "2025-01-14 09:08:07,265 Sleeping for 8s. Reason: RUNNING\n"
     ]
    },
    {
     "name": "stderr",
     "output_type": "stream",
     "text": [
      "RUNNING:  17%|█▋        | 26/150 [elapsed: 00:27 remaining: 02:09]"
     ]
    },
    {
     "name": "stdout",
     "output_type": "stream",
     "text": [
      "2025-01-14 09:08:15,552 Sleeping for 7s. Reason: RUNNING\n"
     ]
    },
    {
     "name": "stderr",
     "output_type": "stream",
     "text": [
      "RUNNING:  22%|██▏       | 33/150 [elapsed: 00:34 remaining: 02:01]"
     ]
    },
    {
     "name": "stdout",
     "output_type": "stream",
     "text": [
      "2025-01-14 09:08:22,834 Sleeping for 9s. Reason: RUNNING\n"
     ]
    },
    {
     "name": "stderr",
     "output_type": "stream",
     "text": [
      "RUNNING:  28%|██▊       | 42/150 [elapsed: 00:43 remaining: 01:52]"
     ]
    },
    {
     "name": "stdout",
     "output_type": "stream",
     "text": [
      "2025-01-14 09:08:32,147 Sleeping for 9s. Reason: RUNNING\n"
     ]
    },
    {
     "name": "stderr",
     "output_type": "stream",
     "text": [
      "COMPLETE: 100%|██████████| 150/150 [elapsed: 00:53 remaining: 00:00]\n"
     ]
    },
    {
     "name": "stdout",
     "output_type": "stream",
     "text": [
      "2025-01-14 09:08:44,184 Padding length to 198\n",
      "2025-01-14 09:09:25,760 alphafold2_ptm_model_1_seed_000 recycle=0 pLDDT=86.5 pTM=0.729\n",
      "2025-01-14 09:09:40,964 alphafold2_ptm_model_1_seed_000 recycle=1 pLDDT=87.7 pTM=0.75 tol=1.78\n",
      "2025-01-14 09:09:40,965 alphafold2_ptm_model_1_seed_000 took 56.8s (1 recycles)\n",
      "2025-01-14 09:09:41,050 reranking models by 'plddt' metric\n",
      "2025-01-14 09:09:41,051 rank_001_alphafold2_ptm_model_1_seed_000 pLDDT=87.7 pTM=0.75\n",
      "2025-01-14 09:09:41,683 Query 11/30: 8ajp.A.pdb (length 207)\n"
     ]
    },
    {
     "name": "stderr",
     "output_type": "stream",
     "text": [
      "COMPLETE: 100%|██████████| 150/150 [elapsed: 00:01 remaining: 00:00]\n"
     ]
    },
    {
     "name": "stdout",
     "output_type": "stream",
     "text": [
      "2025-01-14 09:09:47,557 Padding length to 217\n",
      "2025-01-14 09:10:30,515 alphafold2_ptm_model_1_seed_000 recycle=0 pLDDT=92.9 pTM=0.886\n",
      "2025-01-14 09:10:47,876 alphafold2_ptm_model_1_seed_000 recycle=1 pLDDT=93.9 pTM=0.893 tol=0.209\n",
      "2025-01-14 09:10:47,877 alphafold2_ptm_model_1_seed_000 took 60.3s (1 recycles)\n",
      "2025-01-14 09:10:47,956 reranking models by 'plddt' metric\n",
      "2025-01-14 09:10:47,958 rank_001_alphafold2_ptm_model_1_seed_000 pLDDT=93.9 pTM=0.893\n",
      "2025-01-14 09:10:48,607 Query 12/30: 7y79.B.pdb (length 208)\n"
     ]
    },
    {
     "name": "stderr",
     "output_type": "stream",
     "text": [
      "COMPLETE: 100%|██████████| 150/150 [elapsed: 00:00 remaining: 00:00]\n"
     ]
    },
    {
     "name": "stdout",
     "output_type": "stream",
     "text": [
      "2025-01-14 09:10:51,325 Padding length to 217\n",
      "2025-01-14 09:11:08,035 alphafold2_ptm_model_1_seed_000 recycle=0 pLDDT=89.6 pTM=0.841\n",
      "2025-01-14 09:11:24,662 alphafold2_ptm_model_1_seed_000 recycle=1 pLDDT=92.2 pTM=0.859 tol=0.472\n",
      "2025-01-14 09:11:24,663 alphafold2_ptm_model_1_seed_000 took 33.3s (1 recycles)\n",
      "2025-01-14 09:11:24,758 reranking models by 'plddt' metric\n",
      "2025-01-14 09:11:24,760 rank_001_alphafold2_ptm_model_1_seed_000 pLDDT=92.2 pTM=0.859\n",
      "2025-01-14 09:11:25,421 Query 13/30: 7ymo.A.pdb (length 210)\n"
     ]
    },
    {
     "name": "stderr",
     "output_type": "stream",
     "text": [
      "COMPLETE: 100%|██████████| 150/150 [elapsed: 00:00 remaining: 00:00]\n"
     ]
    },
    {
     "name": "stdout",
     "output_type": "stream",
     "text": [
      "2025-01-14 09:11:28,953 Padding length to 217\n",
      "2025-01-14 09:11:45,726 alphafold2_ptm_model_1_seed_000 recycle=0 pLDDT=90.2 pTM=0.869\n",
      "2025-01-14 09:12:02,662 alphafold2_ptm_model_1_seed_000 recycle=1 pLDDT=90.8 pTM=0.875 tol=0.391\n",
      "2025-01-14 09:12:02,663 alphafold2_ptm_model_1_seed_000 took 33.7s (1 recycles)\n",
      "2025-01-14 09:12:02,743 reranking models by 'plddt' metric\n",
      "2025-01-14 09:12:02,744 rank_001_alphafold2_ptm_model_1_seed_000 pLDDT=90.8 pTM=0.875\n",
      "2025-01-14 09:12:03,377 Query 14/30: 7y9b.A.pdb (length 220)\n"
     ]
    },
    {
     "name": "stderr",
     "output_type": "stream",
     "text": [
      "COMPLETE: 100%|██████████| 150/150 [elapsed: 00:00 remaining: 00:00]\n"
     ]
    },
    {
     "name": "stdout",
     "output_type": "stream",
     "text": [
      "2025-01-14 09:12:06,013 Padding length to 230\n",
      "2025-01-14 09:12:52,136 alphafold2_ptm_model_1_seed_000 recycle=0 pLDDT=75.6 pTM=0.577\n",
      "2025-01-14 09:13:10,838 alphafold2_ptm_model_1_seed_000 recycle=1 pLDDT=75.1 pTM=0.618 tol=1.46\n",
      "2025-01-14 09:13:10,840 alphafold2_ptm_model_1_seed_000 took 64.8s (1 recycles)\n",
      "2025-01-14 09:13:10,925 reranking models by 'plddt' metric\n",
      "2025-01-14 09:13:10,926 rank_001_alphafold2_ptm_model_1_seed_000 pLDDT=75.1 pTM=0.618\n",
      "2025-01-14 09:13:11,568 Query 15/30: 7u04.H.pdb (length 230)\n"
     ]
    },
    {
     "name": "stderr",
     "output_type": "stream",
     "text": [
      "PENDING:   0%|          | 0/150 [elapsed: 00:00 remaining: ?]"
     ]
    },
    {
     "name": "stdout",
     "output_type": "stream",
     "text": [
      "2025-01-14 09:13:11,877 Sleeping for 5s. Reason: PENDING\n"
     ]
    },
    {
     "name": "stderr",
     "output_type": "stream",
     "text": [
      "RUNNING:   3%|▎         | 5/150 [elapsed: 00:05 remaining: 02:41]"
     ]
    },
    {
     "name": "stdout",
     "output_type": "stream",
     "text": [
      "2025-01-14 09:13:17,156 Sleeping for 10s. Reason: RUNNING\n"
     ]
    },
    {
     "name": "stderr",
     "output_type": "stream",
     "text": [
      "RUNNING:  10%|█         | 15/150 [elapsed: 00:15 remaining: 02:21]"
     ]
    },
    {
     "name": "stdout",
     "output_type": "stream",
     "text": [
      "2025-01-14 09:13:27,451 Sleeping for 10s. Reason: RUNNING\n"
     ]
    },
    {
     "name": "stderr",
     "output_type": "stream",
     "text": [
      "RUNNING:  17%|█▋        | 25/150 [elapsed: 00:26 remaining: 02:09]"
     ]
    },
    {
     "name": "stdout",
     "output_type": "stream",
     "text": [
      "2025-01-14 09:13:37,732 Sleeping for 6s. Reason: RUNNING\n"
     ]
    },
    {
     "name": "stderr",
     "output_type": "stream",
     "text": [
      "RUNNING:  21%|██        | 31/150 [elapsed: 00:32 remaining: 02:04]"
     ]
    },
    {
     "name": "stdout",
     "output_type": "stream",
     "text": [
      "2025-01-14 09:13:44,027 Sleeping for 10s. Reason: RUNNING\n"
     ]
    },
    {
     "name": "stderr",
     "output_type": "stream",
     "text": [
      "RUNNING:  27%|██▋       | 41/150 [elapsed: 00:42 remaining: 01:53]"
     ]
    },
    {
     "name": "stdout",
     "output_type": "stream",
     "text": [
      "2025-01-14 09:13:54,333 Sleeping for 9s. Reason: RUNNING\n"
     ]
    },
    {
     "name": "stderr",
     "output_type": "stream",
     "text": [
      "RUNNING:  33%|███▎      | 50/150 [elapsed: 00:52 remaining: 01:43]"
     ]
    },
    {
     "name": "stdout",
     "output_type": "stream",
     "text": [
      "2025-01-14 09:14:03,631 Sleeping for 6s. Reason: RUNNING\n"
     ]
    }
   ],
   "source": [
    "#@title Run Prediction\n",
    "\n",
    "import sys\n",
    "\n",
    "from colabfold.batch import get_queries, run\n",
    "from colabfold.download import default_data_dir\n",
    "from colabfold.utils import setup_logging\n",
    "from pathlib import Path\n",
    "\n",
    "# For some reason we need that to get pdbfixer to import\n",
    "if use_amber and f\"/usr/local/lib/python{python_version}/site-packages/\" not in sys.path:\n",
    "    sys.path.insert(0, f\"/usr/local/lib/python{python_version}/site-packages/\")\n",
    "\n",
    "setup_logging(Path(result_dir).joinpath(\"log.txt\"))\n",
    "\n",
    "queries, is_complex = get_queries(input_dir)\n",
    "run(\n",
    "    queries=queries,\n",
    "    result_dir=result_dir,\n",
    "    use_templates=use_templates,\n",
    "    num_relax=num_relax,\n",
    "    relax_max_iterations=relax_max_iterations,\n",
    "    msa_mode=msa_mode,\n",
    "    model_type=\"auto\",\n",
    "    num_models=num_models,\n",
    "    num_recycles=num_recycles,\n",
    "    model_order=[1, 2, 3, 4, 5],\n",
    "    is_complex=is_complex,\n",
    "    data_dir=default_data_dir,\n",
    "    keep_existing_results=do_not_overwrite_results,\n",
    "    rank_by=\"auto\",\n",
    "    pair_mode=\"unpaired+paired\",\n",
    "    stop_at_score=stop_at_score,\n",
    "    zip_results=zip_results,\n",
    "    user_agent=\"colabfold/google-colab-batch\",\n",
    ")"
   ]
  },
  {
   "cell_type": "markdown",
   "metadata": {
    "id": "UGUBLzB3C6WN"
   },
   "source": [
    "# Instructions <a name=\"Instructions\"></a>\n",
    "**Quick start**\n",
    "1. Upload your single fasta files to a folder in your Google Drive\n",
    "2. Define path to the fold containing the fasta files (`input_dir`) define an outdir (`output_dir`)\n",
    "3. Press \"Runtime\" -> \"Run all\".\n",
    "\n",
    "**Result zip file contents**\n",
    "\n",
    "At the end of the job a all results `jobname.result.zip` will be uploaded to your (`output_dir`) Google Drive. Each zip contains one protein.\n",
    "\n",
    "1. PDB formatted structures sorted by avg. pIDDT. (unrelaxed and relaxed if `use_amber` is enabled).\n",
    "2. Plots of the model quality.\n",
    "3. Plots of the MSA coverage.\n",
    "4. Parameter log file.\n",
    "5. A3M formatted input MSA.\n",
    "6. BibTeX file with citations for all used tools and databases.\n",
    "\n",
    "\n",
    "**Troubleshooting**\n",
    "* Check that the runtime type is set to GPU at \"Runtime\" -> \"Change runtime type\".\n",
    "* Try to restart the session \"Runtime\" -> \"Factory reset runtime\".\n",
    "* Check your input sequence.\n",
    "\n",
    "**Known issues**\n",
    "* Google Colab assigns different types of GPUs with varying amount of memory. Some might not have enough memory to predict the structure for a long sequence.\n",
    "* Google Colab assigns different types of GPUs with varying amount of memory. Some might not have enough memory to predict the structure for a long sequence.\n",
    "* Your browser can block the pop-up for downloading the result file. You can choose the `save_to_google_drive` option to upload to Google Drive instead or manually download the result file: Click on the little folder icon to the left, navigate to file: `jobname.result.zip`, right-click and select \\\"Download\\\" (see [screenshot](https://pbs.twimg.com/media/E6wRW2lWUAEOuoe?format=jpg&name=small)).\n",
    "\n",
    "**Limitations**\n",
    "* Computing resources: Our MMseqs2 API can handle ~20-50k requests per day.\n",
    "* MSAs: MMseqs2 is very precise and sensitive but might find less hits compared to HHblits/HMMer searched against BFD or Mgnify.\n",
    "* We recommend to additionally use the full [AlphaFold2 pipeline](https://github.com/deepmind/alphafold).\n",
    "\n",
    "**Description of the plots**\n",
    "*   **Number of sequences per position** - We want to see at least 30 sequences per position, for best performance, ideally 100 sequences.\n",
    "*   **Predicted lDDT per position** - model confidence (out of 100) at each position. The higher the better.\n",
    "*   **Predicted Alignment Error** - For homooligomers, this could be a useful metric to assess how confident the model is about the interface. The lower the better.\n",
    "\n",
    "**Bugs**\n",
    "- If you encounter any bugs, please report the issue to https://github.com/sokrypton/ColabFold/issues\n",
    "\n",
    "**License**\n",
    "\n",
    "The source code of ColabFold is licensed under [MIT](https://raw.githubusercontent.com/sokrypton/ColabFold/main/LICENSE). Additionally, this notebook uses AlphaFold2 source code and its parameters licensed under [Apache 2.0](https://raw.githubusercontent.com/deepmind/alphafold/main/LICENSE) and  [CC BY 4.0](https://creativecommons.org/licenses/by-sa/4.0/) respectively. Read more about the AlphaFold license [here](https://github.com/deepmind/alphafold).\n",
    "\n",
    "**Acknowledgments**\n",
    "- We thank the AlphaFold team for developing an excellent model and open sourcing the software.\n",
    "\n",
    "- Do-Yoon Kim for creating the ColabFold logo.\n",
    "\n",
    "- A colab by Sergey Ovchinnikov ([@sokrypton](https://twitter.com/sokrypton)), Milot Mirdita ([@milot_mirdita](https://twitter.com/milot_mirdita)) and Martin Steinegger ([@thesteinegger](https://twitter.com/thesteinegger)).\n"
   ]
  },
  {
   "cell_type": "code",
   "execution_count": null,
   "metadata": {
    "id": "unaFok0N5_za"
   },
   "outputs": [],
   "source": [
    "d"
   ]
  }
 ],
 "metadata": {
  "accelerator": "GPU",
  "colab": {
   "provenance": [
    {
     "file_id": "https://github.com/sokrypton/ColabFold/blob/main/batch/AlphaFold2_batch.ipynb",
     "timestamp": 1736701652668
    }
   ]
  },
  "kernelspec": {
   "display_name": "Python 3 (ipykernel)",
   "language": "python",
   "name": "python3"
  },
  "language_info": {
   "name": "python"
  }
 },
 "nbformat": 4,
 "nbformat_minor": 0
}
